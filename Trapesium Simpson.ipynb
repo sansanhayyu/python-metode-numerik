{
 "cells": [
  {
   "cell_type": "markdown",
   "id": "4db0c8c1",
   "metadata": {},
   "source": [
    "# Integral : \n",
    "# Metode Analitik, Trapesium, Simpson 1/3"
   ]
  },
  {
   "cell_type": "code",
   "execution_count": 1,
   "id": "765acb1d",
   "metadata": {},
   "outputs": [],
   "source": [
    "%matplotlib inline \n",
    "import numpy as np\n",
    "from sympy import *\n",
    "import matplotlib.pyplot as plt\n",
    "import pandas as pd"
   ]
  },
  {
   "cell_type": "code",
   "execution_count": 2,
   "id": "05ca891d",
   "metadata": {},
   "outputs": [],
   "source": [
    "x = symbols('x')"
   ]
  },
  {
   "cell_type": "markdown",
   "id": "6e298553",
   "metadata": {},
   "source": [
    "$$ \\int_a^b f(x) \\;dx $$"
   ]
  },
  {
   "cell_type": "code",
   "execution_count": 3,
   "id": "a0044601",
   "metadata": {},
   "outputs": [],
   "source": [
    "# Definisi fungsi yang diintegralkan\n",
    "f = x**2"
   ]
  },
  {
   "cell_type": "code",
   "execution_count": 4,
   "id": "1abcd97c",
   "metadata": {},
   "outputs": [],
   "source": [
    "# Batas integral\n",
    "a = 0\n",
    "b = 10"
   ]
  },
  {
   "cell_type": "code",
   "execution_count": 5,
   "id": "9e68377c",
   "metadata": {},
   "outputs": [],
   "source": [
    "# Ubah persamaan Sympy ke fungsi Python\n",
    "ff = lambdify(x,f)"
   ]
  },
  {
   "cell_type": "code",
   "execution_count": 6,
   "id": "895c9af9",
   "metadata": {},
   "outputs": [],
   "source": [
    "# Buat data sebanyak n+1\n",
    "# dari x = a ... b\n",
    "n = 10\n",
    "xd = np.linspace (a,b,n+1)\n",
    "fd = ff(xd)\n",
    "dx = xd[1] - xd [0]"
   ]
  },
  {
   "cell_type": "code",
   "execution_count": 7,
   "id": "cf25a8b1",
   "metadata": {},
   "outputs": [
    {
     "data": {
      "text/html": [
       "<div>\n",
       "<style scoped>\n",
       "    .dataframe tbody tr th:only-of-type {\n",
       "        vertical-align: middle;\n",
       "    }\n",
       "\n",
       "    .dataframe tbody tr th {\n",
       "        vertical-align: top;\n",
       "    }\n",
       "\n",
       "    .dataframe thead th {\n",
       "        text-align: right;\n",
       "    }\n",
       "</style>\n",
       "<table border=\"1\" class=\"dataframe\">\n",
       "  <thead>\n",
       "    <tr style=\"text-align: right;\">\n",
       "      <th></th>\n",
       "      <th>x</th>\n",
       "      <th>f(x)</th>\n",
       "    </tr>\n",
       "  </thead>\n",
       "  <tbody>\n",
       "    <tr>\n",
       "      <th>0</th>\n",
       "      <td>0.0</td>\n",
       "      <td>0.0</td>\n",
       "    </tr>\n",
       "    <tr>\n",
       "      <th>1</th>\n",
       "      <td>1.0</td>\n",
       "      <td>1.0</td>\n",
       "    </tr>\n",
       "    <tr>\n",
       "      <th>2</th>\n",
       "      <td>2.0</td>\n",
       "      <td>4.0</td>\n",
       "    </tr>\n",
       "    <tr>\n",
       "      <th>3</th>\n",
       "      <td>3.0</td>\n",
       "      <td>9.0</td>\n",
       "    </tr>\n",
       "    <tr>\n",
       "      <th>4</th>\n",
       "      <td>4.0</td>\n",
       "      <td>16.0</td>\n",
       "    </tr>\n",
       "    <tr>\n",
       "      <th>5</th>\n",
       "      <td>5.0</td>\n",
       "      <td>25.0</td>\n",
       "    </tr>\n",
       "    <tr>\n",
       "      <th>6</th>\n",
       "      <td>6.0</td>\n",
       "      <td>36.0</td>\n",
       "    </tr>\n",
       "    <tr>\n",
       "      <th>7</th>\n",
       "      <td>7.0</td>\n",
       "      <td>49.0</td>\n",
       "    </tr>\n",
       "    <tr>\n",
       "      <th>8</th>\n",
       "      <td>8.0</td>\n",
       "      <td>64.0</td>\n",
       "    </tr>\n",
       "    <tr>\n",
       "      <th>9</th>\n",
       "      <td>9.0</td>\n",
       "      <td>81.0</td>\n",
       "    </tr>\n",
       "    <tr>\n",
       "      <th>10</th>\n",
       "      <td>10.0</td>\n",
       "      <td>100.0</td>\n",
       "    </tr>\n",
       "  </tbody>\n",
       "</table>\n",
       "</div>"
      ],
      "text/plain": [
       "       x   f(x)\n",
       "0    0.0    0.0\n",
       "1    1.0    1.0\n",
       "2    2.0    4.0\n",
       "3    3.0    9.0\n",
       "4    4.0   16.0\n",
       "5    5.0   25.0\n",
       "6    6.0   36.0\n",
       "7    7.0   49.0\n",
       "8    8.0   64.0\n",
       "9    9.0   81.0\n",
       "10  10.0  100.0"
      ]
     },
     "execution_count": 7,
     "metadata": {},
     "output_type": "execute_result"
    }
   ],
   "source": [
    "# Buat pandas data frame untuk tampilan berbentuk tabel\n",
    "data = {'x': xd , 'f(x)': fd}\n",
    "df = pd.DataFrame(data)\n",
    "df"
   ]
  },
  {
   "cell_type": "markdown",
   "id": "8751e813",
   "metadata": {},
   "source": [
    "# Metode Eksak (Analitik)"
   ]
  },
  {
   "cell_type": "code",
   "execution_count": 8,
   "id": "7db33c90",
   "metadata": {},
   "outputs": [
    {
     "data": {
      "text/latex": [
       "$\\displaystyle \\frac{1000}{3}$"
      ],
      "text/plain": [
       "1000/3"
      ]
     },
     "execution_count": 8,
     "metadata": {},
     "output_type": "execute_result"
    }
   ],
   "source": [
    "ieksak = integrate(f,(x,a,b)) \n",
    "\n",
    "ieksak"
   ]
  },
  {
   "cell_type": "markdown",
   "id": "9c3bf600",
   "metadata": {},
   "source": [
    "# Metode Trapesium / Trapezoidal"
   ]
  },
  {
   "cell_type": "code",
   "execution_count": 9,
   "id": "9428d3f6",
   "metadata": {},
   "outputs": [
    {
     "data": {
      "text/plain": [
       "335.0"
      ]
     },
     "execution_count": 9,
     "metadata": {},
     "output_type": "execute_result"
    }
   ],
   "source": [
    "s = 0\n",
    "for i in range(1,n):\n",
    "    s += fd[i]\n",
    "itrap = (dx/2)*(fd[0] + 2*s + fd[n])\n",
    "itrap"
   ]
  },
  {
   "cell_type": "markdown",
   "id": "54f3c094",
   "metadata": {},
   "source": [
    "#Galat Relatif Metode Trapesium dan Metode Analitik"
   ]
  },
  {
   "cell_type": "code",
   "execution_count": 10,
   "id": "b1f70c47",
   "metadata": {},
   "outputs": [
    {
     "data": {
      "text/latex": [
       "$\\displaystyle 0.00500000000000006$"
      ],
      "text/plain": [
       "0.00500000000000006"
      ]
     },
     "execution_count": 10,
     "metadata": {},
     "output_type": "execute_result"
    }
   ],
   "source": [
    "# Galat Relatif \n",
    "errtrap = (itrap - ieksak)/ieksak\n",
    "errtrap"
   ]
  },
  {
   "cell_type": "markdown",
   "id": "976b0f06",
   "metadata": {},
   "source": [
    "# Metode Simpson 1/3"
   ]
  },
  {
   "cell_type": "code",
   "execution_count": 11,
   "id": "b7513aea",
   "metadata": {},
   "outputs": [
    {
     "data": {
      "text/plain": [
       "333.3333333333333"
      ]
     },
     "execution_count": 11,
     "metadata": {},
     "output_type": "execute_result"
    }
   ],
   "source": [
    "s1 = 0\n",
    "s2 = 0\n",
    "for i in range(1,n,2):\n",
    "    s1 += fd[i]\n",
    "for i in range (2,n-1,2):\n",
    "    s2 += fd[i]\n",
    "isimp = (dx/3) * (fd[0] + 4*s1 + 2*s2 + fd[n])\n",
    "isimp"
   ]
  },
  {
   "cell_type": "markdown",
   "id": "f0e18a94",
   "metadata": {},
   "source": [
    "#Galat Relatif Metode Simpson dan Metode Analitik "
   ]
  },
  {
   "cell_type": "code",
   "execution_count": 12,
   "id": "3e5c476a",
   "metadata": {},
   "outputs": [
    {
     "data": {
      "text/latex": [
       "$\\displaystyle 0$"
      ],
      "text/plain": [
       "0"
      ]
     },
     "execution_count": 12,
     "metadata": {},
     "output_type": "execute_result"
    }
   ],
   "source": [
    "errsimp = (isimp - ieksak)/ieksak\n",
    "errsimp"
   ]
  },
  {
   "cell_type": "code",
   "execution_count": null,
   "id": "8caffd48",
   "metadata": {},
   "outputs": [],
   "source": []
  }
 ],
 "metadata": {
  "kernelspec": {
   "display_name": "Python 3",
   "language": "python",
   "name": "python3"
  },
  "language_info": {
   "codemirror_mode": {
    "name": "ipython",
    "version": 3
   },
   "file_extension": ".py",
   "mimetype": "text/x-python",
   "name": "python",
   "nbconvert_exporter": "python",
   "pygments_lexer": "ipython3",
   "version": "3.8.8"
  }
 },
 "nbformat": 4,
 "nbformat_minor": 5
}
