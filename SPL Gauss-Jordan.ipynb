{
 "cells": [
  {
   "cell_type": "markdown",
   "id": "a760a1dd",
   "metadata": {},
   "source": [
    "# Gauss Jordan Python Program"
   ]
  },
  {
   "cell_type": "markdown",
   "id": "f8b79e24",
   "metadata": {},
   "source": [
    "### sumber : https://www.codesansar.com/numerical-methods/gauss-jordan-method-python-program-output.htm"
   ]
  },
  {
   "cell_type": "code",
   "execution_count": 1,
   "id": "373cebd0",
   "metadata": {},
   "outputs": [],
   "source": [
    "# Importing NumPy Library\n",
    "import numpy as np\n",
    "import sys"
   ]
  },
  {
   "cell_type": "code",
   "execution_count": 2,
   "id": "7e48f9f6",
   "metadata": {},
   "outputs": [
    {
     "name": "stdout",
     "output_type": "stream",
     "text": [
      "Enter number of unknowns: 3\n"
     ]
    }
   ],
   "source": [
    "# Reading number of unknowns\n",
    "n = int(input('Enter number of unknowns: '))"
   ]
  },
  {
   "cell_type": "code",
   "execution_count": 3,
   "id": "e4cb7dd9",
   "metadata": {},
   "outputs": [],
   "source": [
    "# Making numpy array of n x n+1 size and initializing \n",
    "# to zero for storing augmented matrix\n",
    "a = np.zeros((n,n+1))"
   ]
  },
  {
   "cell_type": "code",
   "execution_count": 4,
   "id": "ddfdce5b",
   "metadata": {},
   "outputs": [],
   "source": [
    "# Making numpy array of n size and initializing \n",
    "# to zero for storing solution vector\n",
    "x = np.zeros(n)"
   ]
  },
  {
   "cell_type": "code",
   "execution_count": 5,
   "id": "d35c50ba",
   "metadata": {},
   "outputs": [
    {
     "name": "stdout",
     "output_type": "stream",
     "text": [
      "Enter Augmented Matrix Coefficients:\n",
      "a[0][0]=1\n",
      "a[0][1]=1\n",
      "a[0][2]=1\n",
      "a[0][3]=9\n",
      "a[1][0]=2\n",
      "a[1][1]=-3\n",
      "a[1][2]=4\n",
      "a[1][3]=13\n",
      "a[2][0]=3\n",
      "a[2][1]=4\n",
      "a[2][2]=5\n",
      "a[2][3]=40\n"
     ]
    }
   ],
   "source": [
    "# Reading augmented matrix coefficients\n",
    "print('Enter Augmented Matrix Coefficients:')\n",
    "for i in range(n):\n",
    "    for j in range(n+1):\n",
    "        a[i][j] = float(input( 'a['+str(i)+']['+ str(j)+']='))"
   ]
  },
  {
   "cell_type": "code",
   "execution_count": 6,
   "id": "59df3568",
   "metadata": {},
   "outputs": [],
   "source": [
    "# Applying Gauss Jordan Elimination\n",
    "for i in range(n):\n",
    "    if a[i][i] == 0.0:\n",
    "        sys.exit('Divide by zero detected!')\n",
    "        \n",
    "    for j in range(n):\n",
    "        if i != j:\n",
    "            ratio = a[j][i]/a[i][i]\n",
    "\n",
    "            for k in range(n+1):\n",
    "                a[j][k] = a[j][k] - ratio * a[i][k]"
   ]
  },
  {
   "cell_type": "code",
   "execution_count": 7,
   "id": "88117078",
   "metadata": {},
   "outputs": [],
   "source": [
    "# Obtaining Solution\n",
    "\n",
    "for i in range(n):\n",
    "    x[i] = a[i][n]/a[i][i]"
   ]
  },
  {
   "cell_type": "code",
   "execution_count": 8,
   "id": "4c2124d4",
   "metadata": {},
   "outputs": [
    {
     "name": "stdout",
     "output_type": "stream",
     "text": [
      "\n",
      "Required solution is: \n",
      "X0 = 1.00\tX1 = 3.00\tX2 = 5.00\t"
     ]
    }
   ],
   "source": [
    "# Displaying solution\n",
    "print('\\nRequired solution is: ')\n",
    "for i in range(n):\n",
    "    print('X%d = %0.2f' %(i,x[i]), end = '\\t')"
   ]
  },
  {
   "cell_type": "code",
   "execution_count": null,
   "id": "af550356",
   "metadata": {},
   "outputs": [],
   "source": []
  }
 ],
 "metadata": {
  "kernelspec": {
   "display_name": "Python 3",
   "language": "python",
   "name": "python3"
  },
  "language_info": {
   "codemirror_mode": {
    "name": "ipython",
    "version": 3
   },
   "file_extension": ".py",
   "mimetype": "text/x-python",
   "name": "python",
   "nbconvert_exporter": "python",
   "pygments_lexer": "ipython3",
   "version": "3.8.8"
  }
 },
 "nbformat": 4,
 "nbformat_minor": 5
}
